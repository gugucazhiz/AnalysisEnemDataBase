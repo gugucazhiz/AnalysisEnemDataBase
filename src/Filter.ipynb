{
 "cells": [
  {
   "cell_type": "code",
   "execution_count": 5,
   "metadata": {},
   "outputs": [],
   "source": [
    "from pathlib import Path\n",
    "import pandas as pd\n"
   ]
  },
  {
   "cell_type": "code",
   "execution_count": 2,
   "metadata": {},
   "outputs": [
    {
     "name": "stderr",
     "output_type": "stream",
     "text": [
      "/tmp/ipykernel_7938/3800975283.py:11: SettingWithCopyWarning: \n",
      "A value is trying to be set on a copy of a slice from a DataFrame.\n",
      "Try using .loc[row_indexer,col_indexer] = value instead\n",
      "\n",
      "See the caveats in the documentation: https://pandas.pydata.org/pandas-docs/stable/user_guide/indexing.html#returning-a-view-versus-a-copy\n",
      "  df_filtrado[['NU_NOTA_REDACAO','NU_NOTA_CN','NU_NOTA_CH','NU_NOTA_LC','NU_NOTA_MT']] = df_filtrado[['NU_NOTA_REDACAO','NU_NOTA_CN','NU_NOTA_CH','NU_NOTA_LC','NU_NOTA_MT']].fillna(0)\n"
     ]
    }
   ],
   "source": [
    "#Read excel file on my case Microdados \n",
    "df = pd.read_excel(\n",
    "    Path.cwd() / \"MICRODADOS_ENEM_2023.xlsx\",\n",
    "    engine= \"openpyxl\",\n",
    "    usecols= \"A:BA\",\n",
    "    nrows= 5000,\n",
    ")\n",
    "filtrado_nan = \"NU_NOTA_REDACAO\"\n",
    "df_filtrado = df.dropna(subset=[filtrado_nan])\n",
    "\n",
    "df_filtrado[['NU_NOTA_REDACAO','NU_NOTA_CN','NU_NOTA_CH','NU_NOTA_LC','NU_NOTA_MT']] = df_filtrado[['NU_NOTA_REDACAO','NU_NOTA_CN','NU_NOTA_CH','NU_NOTA_LC','NU_NOTA_MT']].fillna(0)\n",
    "\n",
    "#df_filtrado.head()\n",
    "df_filtrado.to_excel(\"5000Resultados.xlsx\",index=False,engine=\"openpyxl\")\n"
   ]
  }
 ],
 "metadata": {
  "kernelspec": {
   "display_name": "usr",
   "language": "python",
   "name": "python3"
  },
  "language_info": {
   "codemirror_mode": {
    "name": "ipython",
    "version": 3
   },
   "file_extension": ".py",
   "mimetype": "text/x-python",
   "name": "python",
   "nbconvert_exporter": "python",
   "pygments_lexer": "ipython3",
   "version": "3.11.2"
  }
 },
 "nbformat": 4,
 "nbformat_minor": 2
}
