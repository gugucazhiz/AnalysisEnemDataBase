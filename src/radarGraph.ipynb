{
 "cells": [
  {
   "cell_type": "code",
   "execution_count": 2,
   "metadata": {},
   "outputs": [],
   "source": [
    "import pandas as pd\n",
    "import plotly.graph_objects as go\n",
    "import plotly.express as px\n",
    "from pathlib import Path\n"
   ]
  },
  {
   "cell_type": "code",
   "execution_count": 3,
   "metadata": {},
   "outputs": [
    {
     "name": "stdout",
     "output_type": "stream",
     "text": [
      "543.93  Tamanho:  200 renda:  200 200\n"
     ]
    }
   ],
   "source": [
    "df = pd.read_excel(\n",
    "    Path.cwd() / \"9000Resultados.xlsx\",\n",
    "    engine='openpyxl',\n",
    "    nrows=200\n",
    ")\n",
    "\n",
    "#Media dos Alunos com pai e mae que estudaram ate Graduação\n",
    "nunca_estudouF = df[(df['Q001']== df['Q002']) \n",
    "                    & (df['Q001']==\"F\")]\n",
    "pai_nao_estudoF = nunca_estudouF['Q001'].tolist()\n",
    "media_alunoF = ((\n",
    "    df['NU_NOTA_REDACAO']+\n",
    "    df['NU_NOTA_CN']+\n",
    "    df['NU_NOTA_CH']+\n",
    "    df['NU_NOTA_LC']+\n",
    "    df['NU_NOTA_MT']\n",
    "    ) / 5).round(2).tolist()\n",
    "media_alunoG = round(sum(media_alunoF) / len(media_alunoF),2)\n",
    "renda_mensalF = df['Q006'].tolist()\n",
    "todos_alunos = df['Q001'].tolist()\n",
    "\n",
    "print(media_alunoG,\" Tamanho: \",len(renda_mensalF), \"renda: \",len(todos_alunos),len(media_alunoF))"
   ]
  },
  {
   "cell_type": "code",
   "execution_count": 9,
   "metadata": {},
   "outputs": [
    {
     "name": "stdout",
     "output_type": "stream",
     "text": [
      "\n"
     ]
    },
    {
     "data": {
      "application/vnd.plotly.v1+json": {
       "config": {
        "plotlyServerURL": "https://plot.ly"
       },
       "data": [
        {
         "hovertemplate": "x=%{x}<br>y=%{y}<br>color=%{marker.color}<extra></extra>",
         "legendgroup": "",
         "marker": {
          "color": [
           1650,
           1650,
           1320,
           3630,
           1320,
           2310,
           1650,
           1320,
           0,
           1320,
           1320,
           2310,
           1320,
           4620,
           2970,
           1320,
           2310,
           2310,
           1320,
           1650,
           2310,
           1320,
           2970,
           9900,
           2310,
           2970,
           1320,
           4620,
           1650,
           1320,
           2310,
           1650,
           1320,
           1650,
           1650,
           1650,
           2970,
           2310,
           1650,
           2970,
           0,
           4620,
           1650,
           1320,
           1320,
           1650,
           1650,
           4620,
           2310,
           1320,
           1650,
           1320,
           1320,
           1320,
           1320,
           1320,
           1650,
           1650,
           1650,
           1320,
           7260,
           2310,
           1320,
           1320,
           2970,
           2970,
           1650,
           1320,
           1320,
           1320,
           1320,
           1650,
           1320,
           1320,
           1320,
           1320,
           1320,
           1650,
           1650,
           2310,
           3630,
           2310,
           1320,
           2970,
           2310,
           1650,
           2310,
           1650,
           1650,
           4620,
           5900,
           1650,
           1650,
           1320,
           1320,
           1320,
           1320,
           2970,
           4620,
           2310,
           1650,
           1650,
           1320,
           2310,
           1320,
           1320,
           2970,
           1320,
           1320,
           1650,
           1320,
           0,
           0,
           1320,
           1320,
           1320,
           1320,
           1320,
           2310,
           1320,
           1650,
           1650,
           1650,
           0,
           1320,
           1650,
           1320,
           1650,
           1320,
           2310,
           1320,
           1320,
           1320,
           1650,
           0,
           0,
           1650,
           0,
           1650,
           1650,
           2970,
           1320,
           1650,
           2310,
           1650,
           4620,
           1650,
           1320,
           8580,
           2970,
           1650,
           1320,
           2970,
           1650,
           0,
           1650,
           1650,
           1320,
           1650,
           8580,
           1320,
           1320,
           1320,
           1650,
           1320,
           2970,
           1320,
           0,
           4620,
           1320,
           1650,
           1320,
           1320,
           1650,
           0,
           1320,
           9900,
           1320,
           1320,
           2310,
           1320,
           1320,
           0,
           2310,
           1650,
           1320,
           1650,
           1320,
           2310,
           2970,
           1650,
           1650,
           1650,
           1320,
           2310,
           1320,
           1650,
           1320,
           5900,
           1650
          ],
          "coloraxis": "coloraxis",
          "opacity": 0.9,
          "size": 12,
          "symbol": "circle"
         },
         "mode": "markers",
         "name": "",
         "orientation": "v",
         "showlegend": false,
         "type": "scatter",
         "x": [
          1650,
          1650,
          1320,
          3630,
          1320,
          2310,
          1650,
          1320,
          0,
          1320,
          1320,
          2310,
          1320,
          4620,
          2970,
          1320,
          2310,
          2310,
          1320,
          1650,
          2310,
          1320,
          2970,
          9900,
          2310,
          2970,
          1320,
          4620,
          1650,
          1320,
          2310,
          1650,
          1320,
          1650,
          1650,
          1650,
          2970,
          2310,
          1650,
          2970,
          0,
          4620,
          1650,
          1320,
          1320,
          1650,
          1650,
          4620,
          2310,
          1320,
          1650,
          1320,
          1320,
          1320,
          1320,
          1320,
          1650,
          1650,
          1650,
          1320,
          7260,
          2310,
          1320,
          1320,
          2970,
          2970,
          1650,
          1320,
          1320,
          1320,
          1320,
          1650,
          1320,
          1320,
          1320,
          1320,
          1320,
          1650,
          1650,
          2310,
          3630,
          2310,
          1320,
          2970,
          2310,
          1650,
          2310,
          1650,
          1650,
          4620,
          5900,
          1650,
          1650,
          1320,
          1320,
          1320,
          1320,
          2970,
          4620,
          2310,
          1650,
          1650,
          1320,
          2310,
          1320,
          1320,
          2970,
          1320,
          1320,
          1650,
          1320,
          0,
          0,
          1320,
          1320,
          1320,
          1320,
          1320,
          2310,
          1320,
          1650,
          1650,
          1650,
          0,
          1320,
          1650,
          1320,
          1650,
          1320,
          2310,
          1320,
          1320,
          1320,
          1650,
          0,
          0,
          1650,
          0,
          1650,
          1650,
          2970,
          1320,
          1650,
          2310,
          1650,
          4620,
          1650,
          1320,
          8580,
          2970,
          1650,
          1320,
          2970,
          1650,
          0,
          1650,
          1650,
          1320,
          1650,
          8580,
          1320,
          1320,
          1320,
          1650,
          1320,
          2970,
          1320,
          0,
          4620,
          1320,
          1650,
          1320,
          1320,
          1650,
          0,
          1320,
          9900,
          1320,
          1320,
          2310,
          1320,
          1320,
          0,
          2310,
          1650,
          1320,
          1650,
          1320,
          2310,
          2970,
          1650,
          1650,
          1650,
          1320,
          2310,
          1320,
          1650,
          1320,
          5900,
          1650
         ],
         "xaxis": "x",
         "y": [
          507.94,
          564.28,
          425.38,
          617.12,
          697.66,
          671.12,
          638.9,
          545.76,
          437.66,
          586.04,
          466.26,
          607.8,
          529.52,
          727.9,
          634.22,
          498.3,
          481.14,
          604.6,
          549.52,
          620.44,
          548.46,
          701.02,
          618.42,
          721.16,
          584.94,
          298.52,
          587.6,
          485.96,
          469.86,
          658.92,
          617.52,
          391.1,
          561.64,
          600.12,
          513.82,
          470.28,
          493.96,
          626,
          623.18,
          637.12,
          619.04,
          634.2,
          597.1,
          611.18,
          542.2,
          595.76,
          678.86,
          658.98,
          462.28,
          300.72,
          568.36,
          566.64,
          337.14,
          523.12,
          465.68,
          475.6,
          582.06,
          469.72,
          490.4,
          565.54,
          623.66,
          718.1,
          553.1,
          497.26,
          744.24,
          581.4,
          567.66,
          485.1,
          455.16,
          651.84,
          581.6,
          718.46,
          533.78,
          545.06,
          398.3,
          424.02,
          330.02,
          595.52,
          546.46,
          601.06,
          717.76,
          643.16,
          506.5,
          515.02,
          603.46,
          475.32,
          571.74,
          536.92,
          777.78,
          612.92,
          691.46,
          504.3,
          533.5,
          509.86,
          604.1,
          496.28,
          636.72,
          611.3,
          571.88,
          569.84,
          520.5,
          475.88,
          507.54,
          567.54,
          491.72,
          617.04,
          541.36,
          293,
          661.12,
          397.24,
          408.08,
          532.24,
          437.62,
          528.44,
          439.06,
          473.66,
          599.06,
          504.92,
          637.16,
          641.22,
          446.34,
          393.96,
          636,
          490.58,
          655.28,
          466.18,
          592.02,
          491.74,
          599.08,
          549.72,
          456.2,
          188.82,
          139.58,
          493.56,
          447.36,
          455.06,
          546.14,
          479.02,
          491.9,
          576.04,
          413.14,
          548.68,
          687.5,
          335.4,
          591.26,
          570.84,
          528,
          497.3,
          634.94,
          724.72,
          492.28,
          558.46,
          523.5,
          325.82,
          574.62,
          590.02,
          670.14,
          470.6,
          368.92,
          656.72,
          498.14,
          522.56,
          528.46,
          614.74,
          657.74,
          703.86,
          605.94,
          290.8,
          553.6,
          511.1,
          654.18,
          331.82,
          731.28,
          474.5,
          539.76,
          433.84,
          528.02,
          653.92,
          482.34,
          599.06,
          545.86,
          501.94,
          668.88,
          495.42,
          452.96,
          712.7,
          577.44,
          456.22,
          530.86,
          563.64,
          607.7,
          530.42,
          699.74,
          501.46,
          556.72,
          479.12,
          464.46,
          513.06,
          526.94,
          645.84
         ],
         "yaxis": "y"
        }
       ],
       "layout": {
        "autosize": false,
        "coloraxis": {
         "colorbar": {
          "title": {
           "text": "color"
          }
         },
         "colorscale": [
          [
           0,
           "rgb(237, 239, 93)"
          ],
          [
           0.16666666666666666,
           "rgb(169, 220, 103)"
          ],
          [
           0.3333333333333333,
           "rgb(110, 197, 116)"
          ],
          [
           0.5,
           "rgb(57, 171, 126)"
          ],
          [
           0.6666666666666666,
           "rgb(13, 143, 129)"
          ],
          [
           0.8333333333333334,
           "rgb(15, 114, 121)"
          ],
          [
           1,
           "rgb(36, 86, 104)"
          ]
         ]
        },
        "height": 550,
        "legend": {
         "tracegroupgap": 0
        },
        "margin": {
         "b": 20,
         "l": 20,
         "r": 20,
         "t": 60
        },
        "template": {
         "data": {
          "bar": [
           {
            "error_x": {
             "color": "#2a3f5f"
            },
            "error_y": {
             "color": "#2a3f5f"
            },
            "marker": {
             "line": {
              "color": "#E5ECF6",
              "width": 0.5
             },
             "pattern": {
              "fillmode": "overlay",
              "size": 10,
              "solidity": 0.2
             }
            },
            "type": "bar"
           }
          ],
          "barpolar": [
           {
            "marker": {
             "line": {
              "color": "#E5ECF6",
              "width": 0.5
             },
             "pattern": {
              "fillmode": "overlay",
              "size": 10,
              "solidity": 0.2
             }
            },
            "type": "barpolar"
           }
          ],
          "carpet": [
           {
            "aaxis": {
             "endlinecolor": "#2a3f5f",
             "gridcolor": "white",
             "linecolor": "white",
             "minorgridcolor": "white",
             "startlinecolor": "#2a3f5f"
            },
            "baxis": {
             "endlinecolor": "#2a3f5f",
             "gridcolor": "white",
             "linecolor": "white",
             "minorgridcolor": "white",
             "startlinecolor": "#2a3f5f"
            },
            "type": "carpet"
           }
          ],
          "choropleth": [
           {
            "colorbar": {
             "outlinewidth": 0,
             "ticks": ""
            },
            "type": "choropleth"
           }
          ],
          "contour": [
           {
            "colorbar": {
             "outlinewidth": 0,
             "ticks": ""
            },
            "colorscale": [
             [
              0,
              "#0d0887"
             ],
             [
              0.1111111111111111,
              "#46039f"
             ],
             [
              0.2222222222222222,
              "#7201a8"
             ],
             [
              0.3333333333333333,
              "#9c179e"
             ],
             [
              0.4444444444444444,
              "#bd3786"
             ],
             [
              0.5555555555555556,
              "#d8576b"
             ],
             [
              0.6666666666666666,
              "#ed7953"
             ],
             [
              0.7777777777777778,
              "#fb9f3a"
             ],
             [
              0.8888888888888888,
              "#fdca26"
             ],
             [
              1,
              "#f0f921"
             ]
            ],
            "type": "contour"
           }
          ],
          "contourcarpet": [
           {
            "colorbar": {
             "outlinewidth": 0,
             "ticks": ""
            },
            "type": "contourcarpet"
           }
          ],
          "heatmap": [
           {
            "colorbar": {
             "outlinewidth": 0,
             "ticks": ""
            },
            "colorscale": [
             [
              0,
              "#0d0887"
             ],
             [
              0.1111111111111111,
              "#46039f"
             ],
             [
              0.2222222222222222,
              "#7201a8"
             ],
             [
              0.3333333333333333,
              "#9c179e"
             ],
             [
              0.4444444444444444,
              "#bd3786"
             ],
             [
              0.5555555555555556,
              "#d8576b"
             ],
             [
              0.6666666666666666,
              "#ed7953"
             ],
             [
              0.7777777777777778,
              "#fb9f3a"
             ],
             [
              0.8888888888888888,
              "#fdca26"
             ],
             [
              1,
              "#f0f921"
             ]
            ],
            "type": "heatmap"
           }
          ],
          "heatmapgl": [
           {
            "colorbar": {
             "outlinewidth": 0,
             "ticks": ""
            },
            "colorscale": [
             [
              0,
              "#0d0887"
             ],
             [
              0.1111111111111111,
              "#46039f"
             ],
             [
              0.2222222222222222,
              "#7201a8"
             ],
             [
              0.3333333333333333,
              "#9c179e"
             ],
             [
              0.4444444444444444,
              "#bd3786"
             ],
             [
              0.5555555555555556,
              "#d8576b"
             ],
             [
              0.6666666666666666,
              "#ed7953"
             ],
             [
              0.7777777777777778,
              "#fb9f3a"
             ],
             [
              0.8888888888888888,
              "#fdca26"
             ],
             [
              1,
              "#f0f921"
             ]
            ],
            "type": "heatmapgl"
           }
          ],
          "histogram": [
           {
            "marker": {
             "pattern": {
              "fillmode": "overlay",
              "size": 10,
              "solidity": 0.2
             }
            },
            "type": "histogram"
           }
          ],
          "histogram2d": [
           {
            "colorbar": {
             "outlinewidth": 0,
             "ticks": ""
            },
            "colorscale": [
             [
              0,
              "#0d0887"
             ],
             [
              0.1111111111111111,
              "#46039f"
             ],
             [
              0.2222222222222222,
              "#7201a8"
             ],
             [
              0.3333333333333333,
              "#9c179e"
             ],
             [
              0.4444444444444444,
              "#bd3786"
             ],
             [
              0.5555555555555556,
              "#d8576b"
             ],
             [
              0.6666666666666666,
              "#ed7953"
             ],
             [
              0.7777777777777778,
              "#fb9f3a"
             ],
             [
              0.8888888888888888,
              "#fdca26"
             ],
             [
              1,
              "#f0f921"
             ]
            ],
            "type": "histogram2d"
           }
          ],
          "histogram2dcontour": [
           {
            "colorbar": {
             "outlinewidth": 0,
             "ticks": ""
            },
            "colorscale": [
             [
              0,
              "#0d0887"
             ],
             [
              0.1111111111111111,
              "#46039f"
             ],
             [
              0.2222222222222222,
              "#7201a8"
             ],
             [
              0.3333333333333333,
              "#9c179e"
             ],
             [
              0.4444444444444444,
              "#bd3786"
             ],
             [
              0.5555555555555556,
              "#d8576b"
             ],
             [
              0.6666666666666666,
              "#ed7953"
             ],
             [
              0.7777777777777778,
              "#fb9f3a"
             ],
             [
              0.8888888888888888,
              "#fdca26"
             ],
             [
              1,
              "#f0f921"
             ]
            ],
            "type": "histogram2dcontour"
           }
          ],
          "mesh3d": [
           {
            "colorbar": {
             "outlinewidth": 0,
             "ticks": ""
            },
            "type": "mesh3d"
           }
          ],
          "parcoords": [
           {
            "line": {
             "colorbar": {
              "outlinewidth": 0,
              "ticks": ""
             }
            },
            "type": "parcoords"
           }
          ],
          "pie": [
           {
            "automargin": true,
            "type": "pie"
           }
          ],
          "scatter": [
           {
            "marker": {
             "colorbar": {
              "outlinewidth": 0,
              "ticks": ""
             }
            },
            "type": "scatter"
           }
          ],
          "scatter3d": [
           {
            "line": {
             "colorbar": {
              "outlinewidth": 0,
              "ticks": ""
             }
            },
            "marker": {
             "colorbar": {
              "outlinewidth": 0,
              "ticks": ""
             }
            },
            "type": "scatter3d"
           }
          ],
          "scattercarpet": [
           {
            "marker": {
             "colorbar": {
              "outlinewidth": 0,
              "ticks": ""
             }
            },
            "type": "scattercarpet"
           }
          ],
          "scattergeo": [
           {
            "marker": {
             "colorbar": {
              "outlinewidth": 0,
              "ticks": ""
             }
            },
            "type": "scattergeo"
           }
          ],
          "scattergl": [
           {
            "marker": {
             "colorbar": {
              "outlinewidth": 0,
              "ticks": ""
             }
            },
            "type": "scattergl"
           }
          ],
          "scattermapbox": [
           {
            "marker": {
             "colorbar": {
              "outlinewidth": 0,
              "ticks": ""
             }
            },
            "type": "scattermapbox"
           }
          ],
          "scatterpolar": [
           {
            "marker": {
             "colorbar": {
              "outlinewidth": 0,
              "ticks": ""
             }
            },
            "type": "scatterpolar"
           }
          ],
          "scatterpolargl": [
           {
            "marker": {
             "colorbar": {
              "outlinewidth": 0,
              "ticks": ""
             }
            },
            "type": "scatterpolargl"
           }
          ],
          "scatterternary": [
           {
            "marker": {
             "colorbar": {
              "outlinewidth": 0,
              "ticks": ""
             }
            },
            "type": "scatterternary"
           }
          ],
          "surface": [
           {
            "colorbar": {
             "outlinewidth": 0,
             "ticks": ""
            },
            "colorscale": [
             [
              0,
              "#0d0887"
             ],
             [
              0.1111111111111111,
              "#46039f"
             ],
             [
              0.2222222222222222,
              "#7201a8"
             ],
             [
              0.3333333333333333,
              "#9c179e"
             ],
             [
              0.4444444444444444,
              "#bd3786"
             ],
             [
              0.5555555555555556,
              "#d8576b"
             ],
             [
              0.6666666666666666,
              "#ed7953"
             ],
             [
              0.7777777777777778,
              "#fb9f3a"
             ],
             [
              0.8888888888888888,
              "#fdca26"
             ],
             [
              1,
              "#f0f921"
             ]
            ],
            "type": "surface"
           }
          ],
          "table": [
           {
            "cells": {
             "fill": {
              "color": "#EBF0F8"
             },
             "line": {
              "color": "white"
             }
            },
            "header": {
             "fill": {
              "color": "#C8D4E3"
             },
             "line": {
              "color": "white"
             }
            },
            "type": "table"
           }
          ]
         },
         "layout": {
          "annotationdefaults": {
           "arrowcolor": "#2a3f5f",
           "arrowhead": 0,
           "arrowwidth": 1
          },
          "autotypenumbers": "strict",
          "coloraxis": {
           "colorbar": {
            "outlinewidth": 0,
            "ticks": ""
           }
          },
          "colorscale": {
           "diverging": [
            [
             0,
             "#8e0152"
            ],
            [
             0.1,
             "#c51b7d"
            ],
            [
             0.2,
             "#de77ae"
            ],
            [
             0.3,
             "#f1b6da"
            ],
            [
             0.4,
             "#fde0ef"
            ],
            [
             0.5,
             "#f7f7f7"
            ],
            [
             0.6,
             "#e6f5d0"
            ],
            [
             0.7,
             "#b8e186"
            ],
            [
             0.8,
             "#7fbc41"
            ],
            [
             0.9,
             "#4d9221"
            ],
            [
             1,
             "#276419"
            ]
           ],
           "sequential": [
            [
             0,
             "#0d0887"
            ],
            [
             0.1111111111111111,
             "#46039f"
            ],
            [
             0.2222222222222222,
             "#7201a8"
            ],
            [
             0.3333333333333333,
             "#9c179e"
            ],
            [
             0.4444444444444444,
             "#bd3786"
            ],
            [
             0.5555555555555556,
             "#d8576b"
            ],
            [
             0.6666666666666666,
             "#ed7953"
            ],
            [
             0.7777777777777778,
             "#fb9f3a"
            ],
            [
             0.8888888888888888,
             "#fdca26"
            ],
            [
             1,
             "#f0f921"
            ]
           ],
           "sequentialminus": [
            [
             0,
             "#0d0887"
            ],
            [
             0.1111111111111111,
             "#46039f"
            ],
            [
             0.2222222222222222,
             "#7201a8"
            ],
            [
             0.3333333333333333,
             "#9c179e"
            ],
            [
             0.4444444444444444,
             "#bd3786"
            ],
            [
             0.5555555555555556,
             "#d8576b"
            ],
            [
             0.6666666666666666,
             "#ed7953"
            ],
            [
             0.7777777777777778,
             "#fb9f3a"
            ],
            [
             0.8888888888888888,
             "#fdca26"
            ],
            [
             1,
             "#f0f921"
            ]
           ]
          },
          "colorway": [
           "#636efa",
           "#EF553B",
           "#00cc96",
           "#ab63fa",
           "#FFA15A",
           "#19d3f3",
           "#FF6692",
           "#B6E880",
           "#FF97FF",
           "#FECB52"
          ],
          "font": {
           "color": "#2a3f5f"
          },
          "geo": {
           "bgcolor": "white",
           "lakecolor": "white",
           "landcolor": "#E5ECF6",
           "showlakes": true,
           "showland": true,
           "subunitcolor": "white"
          },
          "hoverlabel": {
           "align": "left"
          },
          "hovermode": "closest",
          "mapbox": {
           "style": "light"
          },
          "paper_bgcolor": "white",
          "plot_bgcolor": "#E5ECF6",
          "polar": {
           "angularaxis": {
            "gridcolor": "white",
            "linecolor": "white",
            "ticks": ""
           },
           "bgcolor": "#E5ECF6",
           "radialaxis": {
            "gridcolor": "white",
            "linecolor": "white",
            "ticks": ""
           }
          },
          "scene": {
           "xaxis": {
            "backgroundcolor": "#E5ECF6",
            "gridcolor": "white",
            "gridwidth": 2,
            "linecolor": "white",
            "showbackground": true,
            "ticks": "",
            "zerolinecolor": "white"
           },
           "yaxis": {
            "backgroundcolor": "#E5ECF6",
            "gridcolor": "white",
            "gridwidth": 2,
            "linecolor": "white",
            "showbackground": true,
            "ticks": "",
            "zerolinecolor": "white"
           },
           "zaxis": {
            "backgroundcolor": "#E5ECF6",
            "gridcolor": "white",
            "gridwidth": 2,
            "linecolor": "white",
            "showbackground": true,
            "ticks": "",
            "zerolinecolor": "white"
           }
          },
          "shapedefaults": {
           "line": {
            "color": "#2a3f5f"
           }
          },
          "ternary": {
           "aaxis": {
            "gridcolor": "white",
            "linecolor": "white",
            "ticks": ""
           },
           "baxis": {
            "gridcolor": "white",
            "linecolor": "white",
            "ticks": ""
           },
           "bgcolor": "#E5ECF6",
           "caxis": {
            "gridcolor": "white",
            "linecolor": "white",
            "ticks": ""
           }
          },
          "title": {
           "x": 0.05
          },
          "xaxis": {
           "automargin": true,
           "gridcolor": "white",
           "linecolor": "white",
           "ticks": "",
           "title": {
            "standoff": 15
           },
           "zerolinecolor": "white",
           "zerolinewidth": 2
          },
          "yaxis": {
           "automargin": true,
           "gridcolor": "white",
           "linecolor": "white",
           "ticks": "",
           "title": {
            "standoff": 15
           },
           "zerolinecolor": "white",
           "zerolinewidth": 2
          }
         }
        },
        "title": {
         "text": "Correlação Renda X Nota Do Enem"
        },
        "width": 800,
        "xaxis": {
         "anchor": "y",
         "domain": [
          0,
          1
         ],
         "title": {
          "text": "x"
         }
        },
        "yaxis": {
         "anchor": "x",
         "domain": [
          0,
          1
         ],
         "title": {
          "text": "y"
         }
        }
       }
      }
     },
     "metadata": {},
     "output_type": "display_data"
    }
   ],
   "source": [
    "mapeamento = {'A':0,'B':1320,'C':1650,'D':2310,'E':2970,'F':3630,'G':4620,'H':5900,'I':7260,'J':8580,'K':9900,'L':11190,'M':12440,'N':14520,'O':17800,'P':23000,'Q':24000}\n",
    "renda_numero = [mapeamento[valor] for valor in renda_mensalF]\n",
    "print()\n",
    "grafico_dispersao= px.scatter(x=renda_numero,\n",
    "                              y=media_alunoF,\n",
    "                              color=renda_numero,\n",
    "                              color_continuous_scale=\"Aggrnyl_r\",\n",
    "                              opacity=0.9,\n",
    "                              )\n",
    "grafico_dispersao.update_traces(\n",
    "                                marker_size = 12)\n",
    "grafico_dispersao.update_layout(title = \"Correlação Renda X Nota Do Enem\",\n",
    "                                autosize=False,\n",
    "                                width =800,\n",
    "                                height =550,\n",
    "                                margin=dict(l=20, r=20, t=60, b=20)\n",
    "                                )\n",
    "\n",
    "grafico_dispersao.show()\n",
    "grafico_dispersao.write_html(\"RadarDis.html\")"
   ]
  }
 ],
 "metadata": {
  "kernelspec": {
   "display_name": "usr",
   "language": "python",
   "name": "python3"
  },
  "language_info": {
   "codemirror_mode": {
    "name": "ipython",
    "version": 3
   },
   "file_extension": ".py",
   "mimetype": "text/x-python",
   "name": "python",
   "nbconvert_exporter": "python",
   "pygments_lexer": "ipython3",
   "version": "3.11.2"
  }
 },
 "nbformat": 4,
 "nbformat_minor": 2
}
