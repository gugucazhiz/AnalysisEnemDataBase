{
 "cells": [
  {
   "cell_type": "code",
   "execution_count": 6,
   "metadata": {},
   "outputs": [],
   "source": [
    "from pathlib import Path\n",
    "import pandas as pd\n",
    "from pyecharts import options as opts\n",
    "from pyecharts.charts import Bar"
   ]
  },
  {
   "cell_type": "code",
   "execution_count": 10,
   "metadata": {},
   "outputs": [
    {
     "name": "stdout",
     "output_type": "stream",
     "text": [
      "gRADUACAO;  585.965  sem estudo:  476.772 media ensino me: 548.539  POS:  605.677\n"
     ]
    },
    {
     "data": {
      "text/plain": [
       "'/home/mogado/Programa/python/src/graficoBarra.html'"
      ]
     },
     "execution_count": 10,
     "metadata": {},
     "output_type": "execute_result"
    }
   ],
   "source": [
    "df = pd.read_excel(\n",
    "    Path.cwd() / \"5000Resultados.xlsx\",\n",
    "    engine=\"openpyxl\",\n",
    "    usecols=\"A:BA\",\n",
    "    nrows=5000\n",
    ")\n",
    "\n",
    "#Media dos Alunos com pai e mae que nunca estudaram\n",
    "nunca_estudou = df[(df['Q001']== df['Q002'])\n",
    "                   & (df['Q001'] == \"A\")]\n",
    "pai_nao_estudo0 = nunca_estudou['Q001'].tolist()\n",
    "media_aluno0 = ((\n",
    "    nunca_estudou['NU_NOTA_REDACAO']+\n",
    "    nunca_estudou['NU_NOTA_CN']+\n",
    "    nunca_estudou['NU_NOTA_CH']+\n",
    "    nunca_estudou['NU_NOTA_LC']+\n",
    "    nunca_estudou['NU_NOTA_MT']\n",
    "    ) / 5).round(2).tolist()\n",
    "if len(media_aluno0) != 0:\n",
    " media_aluno0 = round(sum(media_aluno0) / len(media_aluno0),3)\n",
    "\n",
    "#Media dos Alunos com pai e mae que estudaram ate Ensino Medio\n",
    "nunca_estudouE = df[(df['Q001']== df['Q002']) \n",
    "                    & (df['Q001']==\"E\")]\n",
    "pai_nao_estudoE = nunca_estudouE['Q001'].tolist()\n",
    "media_alunoE = ((\n",
    "    nunca_estudouE['NU_NOTA_REDACAO']+\n",
    "    nunca_estudouE['NU_NOTA_CN']+\n",
    "    nunca_estudouE['NU_NOTA_CH']+\n",
    "    nunca_estudouE['NU_NOTA_LC']+\n",
    "    nunca_estudouE['NU_NOTA_MT']\n",
    "    ) / 5).round(2).tolist()\n",
    "if len(media_alunoE) != 0:\n",
    " media_alunoE = round(sum(media_alunoE) / len(media_alunoE),3)\n",
    "\n",
    "\n",
    "\n",
    "#Media dos Alunos com pai e mae que estudaram ate Graduação\n",
    "nunca_estudouF = df[(df['Q001']== df['Q002']) \n",
    "                    & (df['Q001']==\"F\")]\n",
    "pai_nao_estudoF = nunca_estudouF['Q001'].tolist()\n",
    "media_alunoF = ((\n",
    "    nunca_estudouF['NU_NOTA_REDACAO']+\n",
    "    nunca_estudouF['NU_NOTA_CN']+\n",
    "    nunca_estudouF['NU_NOTA_CH']+\n",
    "    nunca_estudouF['NU_NOTA_LC']+\n",
    "    nunca_estudouF['NU_NOTA_MT']\n",
    "    ) / 5).round(2).tolist()\n",
    "if len(media_alunoF) != 0:\n",
    " media_alunoF = round(sum(media_alunoF) / len(media_alunoF),3)\n",
    "\n",
    "#Media dos Alunos com pai e mae que estudaram ate pos Graduação\n",
    "nunca_estudouG = df[(df['Q001']== df['Q002']) \n",
    "                    & (df['Q001']==\"G\")]\n",
    "pai_nao_estudoG = nunca_estudouG['Q001'].tolist()\n",
    "media_alunoG = ((\n",
    "    nunca_estudouG['NU_NOTA_REDACAO']+\n",
    "    nunca_estudouG['NU_NOTA_CN']+\n",
    "    nunca_estudouG['NU_NOTA_CH']+\n",
    "    nunca_estudouG['NU_NOTA_LC']+\n",
    "    nunca_estudouG['NU_NOTA_MT']\n",
    "    ) / 5).round(2).tolist()\n",
    "if len(media_alunoG) != 0:\n",
    " media_alunoG = round(sum(media_alunoG) / len(media_alunoG),3)\n",
    "\n",
    "\n",
    "bar = (\n",
    " Bar())\n",
    "categorias= [\"Nunca Estudou \",\"Ensino Medio\",\" Graduação\",\"Pos-Graduacao\"]\n",
    "bar.add_xaxis(categorias)\n",
    "bar.add_yaxis('Nota media', [media_aluno0,media_alunoE,media_alunoF,media_alunoG],\n",
    "              itemstyle_opts=opts.ItemStyleOpts(color=\"#f28822\"))\n",
    "\n",
    "\n",
    "bar.set_global_opts(\n",
    "    title_opts=opts.TitleOpts(title=\"Nota Media dos Alunos Pela escolaridade dos pais\"),\n",
    "    xaxis_opts=opts.AxisOpts(name=\"Escolaridade Dos Pais\"),\n",
    "    yaxis_opts=opts.AxisOpts(name=\"Nota Media\",axislabel_opts=opts.LabelOpts(rotate=0)),\n",
    "    legend_opts=opts.LegendOpts(pos_top=\"5%\")\n",
    " )\n",
    "\n",
    "print(\"gRADUACAO; \",media_alunoF,\" sem estudo: \",media_aluno0, \"media ensino me:\",media_alunoE,' POS: ',media_alunoG)\n",
    "bar.render(\"graficoBarra.html\")\n"
   ]
  }
 ],
 "metadata": {
  "kernelspec": {
   "display_name": "usr",
   "language": "python",
   "name": "python3"
  },
  "language_info": {
   "codemirror_mode": {
    "name": "ipython",
    "version": 3
   },
   "file_extension": ".py",
   "mimetype": "text/x-python",
   "name": "python",
   "nbconvert_exporter": "python",
   "pygments_lexer": "ipython3",
   "version": "3.11.2"
  }
 },
 "nbformat": 4,
 "nbformat_minor": 2
}
